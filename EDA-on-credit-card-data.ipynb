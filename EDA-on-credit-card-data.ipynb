{
 "cells": [
  {
   "cell_type": "markdown",
   "id": "c5b409cf",
   "metadata": {},
   "source": [
    "# DATA EXPLORATORY ANALYSIS FOR CREDIT CARD DATA"
   ]
  },
  {
   "cell_type": "code",
   "execution_count": null,
   "id": "2cb7f2d4",
   "metadata": {},
   "outputs": [],
   "source": [
    "import pandas as pd\n",
    "import numpy as np\n",
    "import seaborn as sns\n",
    "from matplotlib import pyplot as plt\n",
    "import datetime as dt\n",
    "import os"
   ]
  },
  {
   "cell_type": "code",
   "execution_count": null,
   "id": "67099a5b",
   "metadata": {},
   "outputs": [],
   "source": [
    "#importing and merging a datasets\n",
    "os.chdir(\"E:/dwnld/Python Foundation Case Study 2 - Credit Card Case Study\")\n",
    "os.listdir()\n",
    "Cust_Acq=pd.read_csv(\"Customer Acqusition.csv\")\n",
    "Repayment=pd.read_csv(\"Repayment.csv\")\n",
    "spend=pd.read_csv(\"spend.csv\")\n",
    "\n",
    "data=pd.merge(pd.merge(Cust_Acq,spend,how='inner',on='Customer'),right=Repayment,how='inner',on='Customer')\n",
    "data.head()"
   ]
  },
  {
   "cell_type": "code",
   "execution_count": null,
   "id": "3793df73",
   "metadata": {},
   "outputs": [],
   "source": [
    "# renaming the columns for clearity\n",
    "data.rename(columns={\"Amount_x\":\"Spend_Amount\",\"Amount_y\":\"Repay_Amount\"},inplace=True)\n",
    "\n",
    "data[\"spend_Month\"]=pd.to_datetime(data.Month_x).dt.strftime('%B')\n",
    "data[\"repay_Month\"]=pd.to_datetime(data.Month_y).dt.strftime('%B')\n",
    "data[\"spend_year\"]=pd.to_datetime(spend.Month).dt.strftime('%Y')\n",
    "data[\"repay_year\"]=pd.to_datetime(Repayment.Month).dt.strftime('%Y')"
   ]
  },
  {
   "cell_type": "code",
   "execution_count": null,
   "id": "220a0cce",
   "metadata": {},
   "outputs": [],
   "source": [
    "data.info()"
   ]
  },
  {
   "cell_type": "code",
   "execution_count": null,
   "id": "5acad402",
   "metadata": {},
   "outputs": [],
   "source": [
    "data.info()"
   ]
  },
  {
   "cell_type": "code",
   "execution_count": null,
   "id": "5f0ceb0d",
   "metadata": {},
   "outputs": [],
   "source": [
    "data.shape"
   ]
  },
  {
   "cell_type": "code",
   "execution_count": null,
   "id": "13f4b5d0",
   "metadata": {},
   "outputs": [],
   "source": [
    "data.isnull().sum()"
   ]
  },
  {
   "cell_type": "code",
   "execution_count": null,
   "id": "cb1d1c58",
   "metadata": {},
   "outputs": [],
   "source": [
    "data.columns"
   ]
  },
  {
   "cell_type": "markdown",
   "id": "3827919a",
   "metadata": {},
   "source": [
    "##### Following are some of Mr. Watson’s questions to a Consultant (like you) to understand the  customers spend & repayment behavior.\n",
    "#1. In the above dataset,\n",
    "\n"
   ]
  },
  {
   "cell_type": "code",
   "execution_count": null,
   "id": "1d28cf2a",
   "metadata": {},
   "outputs": [],
   "source": [
    " #a. In case age is less than 18, replace it with mean of age values.\n",
    "data[\"Age\"]=np.where(data.Age<18,data.Age.mean(),data.Age)"
   ]
  },
  {
   "cell_type": "code",
   "execution_count": null,
   "id": "035e0ecc",
   "metadata": {},
   "outputs": [],
   "source": [
    "# b. In case spend amount is more than the limit, replace it with 50% of that customer’s limit. \n",
    "#(customer’s limit provided in acquisition table is the per transaction limit on his card)\n",
    "\n",
    "\n",
    "data[\"Spend_Amount\"]=np.where(data.Spend_Amount>data.Limit,data.Spend_Amount==data.Limit*0.5,data.Spend_Amount)"
   ]
  },
  {
   "cell_type": "code",
   "execution_count": null,
   "id": "0ad89e3f",
   "metadata": {},
   "outputs": [],
   "source": [
    "#c. Incase the repayment amount is more than the limit, replace the repayment with the \n",
    "#limit.\n",
    "data[\"Repay_Amount\"]=np.where(data.Repay_Amount>data.Limit,data.Repay_Amount==data.Limit,data.Repay_Amount)"
   ]
  },
  {
   "cell_type": "code",
   "execution_count": null,
   "id": "eb2487cd",
   "metadata": {},
   "outputs": [],
   "source": [
    "#2. From the above dataset create the following summaries:\n",
    "# a. How many distinct customers exist?\n",
    "distinct_customers =data.Customer.nunique()\n",
    "print(\"Number of distinct customers are\",distinct_customers)"
   ]
  },
  {
   "cell_type": "code",
   "execution_count": null,
   "id": "13fe1ce8",
   "metadata": {},
   "outputs": [],
   "source": [
    "#b. How many distinct categories exist\n",
    "distinct_categories=data.Product.nunique()\n",
    "print(\"Number of distinct categories\",distinct_categories)"
   ]
  },
  {
   "cell_type": "code",
   "execution_count": null,
   "id": "4b8b6dcb",
   "metadata": {},
   "outputs": [],
   "source": [
    "#c.What is the average monthly spend by customers?\n",
    "data.groupby([data.spend_Month]).Spend_Amount.mean()"
   ]
  },
  {
   "cell_type": "code",
   "execution_count": null,
   "id": "e8de407e",
   "metadata": {},
   "outputs": [],
   "source": [
    "# d.What is the average monthly repayment by customers?\n",
    "data.groupby(data.repay_Month).Repay_Amount.mean()\n"
   ]
  },
  {
   "cell_type": "code",
   "execution_count": null,
   "id": "85978677",
   "metadata": {},
   "outputs": [],
   "source": [
    "#e. If the monthly rate of interest is 2.9%, what is the profit for the bank for each month? \n",
    "#(Profit is defined as interest earned on Monthly Profit. \n",
    "#Monthly Profit = Monthly repayment – Monthly spend.\n",
    "#Interest is earned only on positive profits and not on negative amounts)\n",
    "\n",
    "Monthly_spend = data.groupby(data.spend_Month).Spend_Amount.sum()\n",
    "Monthly_repayment = data.groupby(data.repay_Month).Repay_Amount.sum()"
   ]
  },
  {
   "cell_type": "code",
   "execution_count": null,
   "id": "58321126",
   "metadata": {},
   "outputs": [],
   "source": [
    "Monthly_repayment"
   ]
  },
  {
   "cell_type": "code",
   "execution_count": null,
   "id": "ebc6b476",
   "metadata": {},
   "outputs": [],
   "source": [
    "Monthly_spend"
   ]
  },
  {
   "cell_type": "code",
   "execution_count": null,
   "id": "d55e4f11",
   "metadata": {},
   "outputs": [],
   "source": [
    "\n",
    "profit=Monthly_repayment - Monthly_spend\n",
    "profit"
   ]
  },
  {
   "cell_type": "code",
   "execution_count": null,
   "id": "4cc4a615",
   "metadata": {},
   "outputs": [],
   "source": [
    "#interest earned is 2.9% of Monthly Profit\n",
    "Interest_Earned = (2.9*profit)/100\n",
    "Interest_Earned"
   ]
  },
  {
   "cell_type": "code",
   "execution_count": null,
   "id": "de44944b",
   "metadata": {},
   "outputs": [],
   "source": [
    "# f. What are the top 5 product types?\n",
    "data.groupby(\"Type\").Spend_Amount.sum().sort_values(ascending=False).head()"
   ]
  },
  {
   "cell_type": "code",
   "execution_count": null,
   "id": "78eb2af3",
   "metadata": {},
   "outputs": [],
   "source": [
    "#g. Which city is having maximum spend?\n",
    "data.groupby(\"City\").Spend_Amount.sum().sort_values(ascending=False).head(1)"
   ]
  },
  {
   "cell_type": "markdown",
   "id": "19e60364",
   "metadata": {},
   "source": [
    "##### Hence COCHIN city is having maximum spend"
   ]
  },
  {
   "cell_type": "code",
   "execution_count": null,
   "id": "462f6b40",
   "metadata": {},
   "outputs": [],
   "source": [
    "# h. Which age group is spending more money?\n",
    "spend[\"age_groups\"]=pd.cut(data.Age,6)\n",
    "\n",
    "spend.groupby(\"age_groups\").Amount.sum().sort_values(ascending=False).head(1)"
   ]
  },
  {
   "cell_type": "markdown",
   "id": "5904dff4",
   "metadata": {},
   "source": [
    "##### Hence 69-79 age group is spending more money"
   ]
  },
  {
   "cell_type": "code",
   "execution_count": null,
   "id": "3a65fd24",
   "metadata": {},
   "outputs": [],
   "source": [
    "#i. Who are the top 10 customers in terms of repayment?\n",
    "data.groupby(\"Customer\").Repay_Amount.sum().sort_values(ascending=False).head(10)"
   ]
  },
  {
   "cell_type": "code",
   "execution_count": null,
   "id": "072ba487",
   "metadata": {},
   "outputs": [],
   "source": [
    "#3. Calculate the city wise spend on each product on yearly basis. Also include a graphical \n",
    "#representation for the same.\n",
    "\n",
    "data1=data.groupby([\"spend_year\",\"City\",'Product']).Spend_Amount.sum()\n",
    "data1\n"
   ]
  },
  {
   "cell_type": "code",
   "execution_count": null,
   "id": "cc3eaba5",
   "metadata": {},
   "outputs": [],
   "source": [
    "data.pivot_table(index='City',columns=['spend_year','Product'],values='Spend_Amount',aggfunc='sum').plot(kind='bar',stacked=True,xlabel='spend_year',ylabel='spend_amt')"
   ]
  },
  {
   "cell_type": "code",
   "execution_count": null,
   "id": "7f7e764e",
   "metadata": {},
   "outputs": [],
   "source": [
    "#4. Create graphs for\n",
    "# a. Monthly comparison of total spends, city wise\n",
    "data.pivot_table(index='spend_Month',columns='City',values='Spend_Amount',aggfunc='sum').plot(kind='bar',stacked=True)"
   ]
  },
  {
   "cell_type": "code",
   "execution_count": null,
   "id": "a5c5bb22",
   "metadata": {},
   "outputs": [],
   "source": [
    " #b. Comparison of yearly spend on air tickets\n",
    "    \n",
    "data2=data.loc[data.Type=='AIR TICKET'].groupby('spend_year').Spend_Amount.sum()  \n",
    "data2.plot(kind='bar')"
   ]
  },
  {
   "cell_type": "code",
   "execution_count": null,
   "id": "c108d74f",
   "metadata": {},
   "outputs": [],
   "source": [
    "# c. Comparison of monthly spend for each product (look for any seasonality\n",
    "# that exists in terms of spend)\n",
    "\n",
    "data3=data.groupby(['Product','spend_Month']).Spend_Amount.sum()\n",
    "data3.plot(kind='bar')"
   ]
  },
  {
   "cell_type": "markdown",
   "id": "3d02dd05",
   "metadata": {},
   "source": [
    "#### 5. Write user defined PYTHON function to perform the following analysis:\n",
    "You need to find top 10 customers for each city in terms of their repayment amount by \n",
    "different products and by different time periods i.e. year or month. The user should be able \n",
    "to specify the product (Gold/Silver/Platinum) and time period (yearly or monthly) and the \n",
    "function should automatically take these inputs while identifying the top 10 customers.\n",
    "\n"
   ]
  },
  {
   "cell_type": "code",
   "execution_count": null,
   "id": "0bab905d",
   "metadata": {},
   "outputs": [],
   "source": [
    "\n",
    "def top_cust():\n",
    "    product=input(\"Enter a product name(Gold/Silver/Platinum):\")\n",
    "    product\n",
    "    time_period=input(\"Enter a year in 'yyyy' format:\")\n",
    "    time_period\n",
    "    for i in data:\n",
    "        data1=(data.spend_year==time_period) & (data.Product==product)\n",
    "        return  data.groupby([\"Customer\",\"City\"]).Repay_Amount.sum().sort_values(ascending=False).head(10)\n",
    "      "
   ]
  },
  {
   "cell_type": "code",
   "execution_count": null,
   "id": "ca758f8b",
   "metadata": {},
   "outputs": [],
   "source": [
    "top_cust()"
   ]
  }
 ],
 "metadata": {
  "kernelspec": {
   "display_name": "Python 3 (ipykernel)",
   "language": "python",
   "name": "python3"
  },
  "language_info": {
   "codemirror_mode": {
    "name": "ipython",
    "version": 3
   },
   "file_extension": ".py",
   "mimetype": "text/x-python",
   "name": "python",
   "nbconvert_exporter": "python",
   "pygments_lexer": "ipython3",
   "version": "3.9.12"
  }
 },
 "nbformat": 4,
 "nbformat_minor": 5
}
